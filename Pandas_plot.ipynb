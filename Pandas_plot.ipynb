{
 "cells": [
  {
   "cell_type": "code",
   "execution_count": 8,
   "metadata": {},
   "outputs": [],
   "source": [
    "import pandas as pd\n",
    "# import matplotlib.pyplot as plt\n",
    "%matplotlib inline\n",
    "# %matplotlib notebook"
   ]
  },
  {
   "cell_type": "markdown",
   "metadata": {},
   "source": [
    "#### read the file"
   ]
  },
  {
   "cell_type": "code",
   "execution_count": 9,
   "metadata": {},
   "outputs": [],
   "source": [
    "df = pd.read_csv('SALES_2019_RES.csv') \n",
    "df['date'] = pd.to_datetime(df.SALEDTE)\n",
    "df['dt_month'] = df.date.dt.month"
   ]
  },
  {
   "cell_type": "code",
   "execution_count": 10,
   "metadata": {
    "scrolled": false
   },
   "outputs": [
    {
     "data": {
      "text/html": [
       "<div>\n",
       "<style scoped>\n",
       "    .dataframe tbody tr th:only-of-type {\n",
       "        vertical-align: middle;\n",
       "    }\n",
       "\n",
       "    .dataframe tbody tr th {\n",
       "        vertical-align: top;\n",
       "    }\n",
       "\n",
       "    .dataframe thead th {\n",
       "        text-align: right;\n",
       "    }\n",
       "</style>\n",
       "<table border=\"1\" class=\"dataframe\">\n",
       "  <thead>\n",
       "    <tr style=\"text-align: right;\">\n",
       "      <th></th>\n",
       "      <th>PARID</th>\n",
       "      <th>CONVNUM</th>\n",
       "      <th>SALEDTE</th>\n",
       "      <th>PRICE</th>\n",
       "      <th>OLDOWN</th>\n",
       "      <th>OWNERNAME1</th>\n",
       "      <th>PARCELLOCATION</th>\n",
       "      <th>MAILINGNAME1</th>\n",
       "      <th>MAILINGNAME2</th>\n",
       "      <th>PADDR1</th>\n",
       "      <th>...</th>\n",
       "      <th>ASMTLAND</th>\n",
       "      <th>ASMTBLDG</th>\n",
       "      <th>ASMTTOTL</th>\n",
       "      <th>SALETYPE</th>\n",
       "      <th>SALEVALIDITY</th>\n",
       "      <th>DYTNCRDT</th>\n",
       "      <th>DEEDREFERENCE</th>\n",
       "      <th>NBHD</th>\n",
       "      <th>date</th>\n",
       "      <th>dt_month</th>\n",
       "    </tr>\n",
       "  </thead>\n",
       "  <tbody>\n",
       "    <tr>\n",
       "      <td>0</td>\n",
       "      <td>A01 00101 0002</td>\n",
       "      <td>6236.0</td>\n",
       "      <td>19-APR-19</td>\n",
       "      <td>0.0</td>\n",
       "      <td>FERRELL JESSIE L TR</td>\n",
       "      <td>FERRELL JESSIE L TR AND</td>\n",
       "      <td>1179 FURNAS RD</td>\n",
       "      <td>FERRELL JESSIE L TR AND</td>\n",
       "      <td>NANCY E TR</td>\n",
       "      <td>1261 FURNAS RD</td>\n",
       "      <td>...</td>\n",
       "      <td>46470</td>\n",
       "      <td>0</td>\n",
       "      <td>46470</td>\n",
       "      <td>LAND AND BUILDING</td>\n",
       "      <td>RELATED INDIVIDUALS OR CORPORATIONS</td>\n",
       "      <td>N</td>\n",
       "      <td>201900019585</td>\n",
       "      <td>48150000</td>\n",
       "      <td>2019-04-19</td>\n",
       "      <td>4</td>\n",
       "    </tr>\n",
       "    <tr>\n",
       "      <td>1</td>\n",
       "      <td>A01 00101 0002</td>\n",
       "      <td>6235.0</td>\n",
       "      <td>19-APR-19</td>\n",
       "      <td>0.0</td>\n",
       "      <td>FERRELL NANCY E TR</td>\n",
       "      <td>FERRELL JESSIE L TR</td>\n",
       "      <td>1179 FURNAS RD</td>\n",
       "      <td>FERRELL JESSIE L TR AND</td>\n",
       "      <td>NANCY E TR</td>\n",
       "      <td>1261 FURNAS RD</td>\n",
       "      <td>...</td>\n",
       "      <td>46470</td>\n",
       "      <td>0</td>\n",
       "      <td>46470</td>\n",
       "      <td>LAND AND BUILDING</td>\n",
       "      <td>RELATED INDIVIDUALS OR CORPORATIONS</td>\n",
       "      <td>N</td>\n",
       "      <td>201900019941</td>\n",
       "      <td>48150000</td>\n",
       "      <td>2019-04-19</td>\n",
       "      <td>4</td>\n",
       "    </tr>\n",
       "    <tr>\n",
       "      <td>2</td>\n",
       "      <td>A01 00101 0026</td>\n",
       "      <td>6235.0</td>\n",
       "      <td>19-APR-19</td>\n",
       "      <td>0.0</td>\n",
       "      <td>FERRELL NANCY E TR</td>\n",
       "      <td>FERRELL JESSIE L TR</td>\n",
       "      <td>1261 FURNAS RD</td>\n",
       "      <td>FERRELL JESSIE L TR AND</td>\n",
       "      <td>NANCY E TR</td>\n",
       "      <td>1261 FURNAS RD</td>\n",
       "      <td>...</td>\n",
       "      <td>53870</td>\n",
       "      <td>166510</td>\n",
       "      <td>220380</td>\n",
       "      <td>LAND AND BUILDING</td>\n",
       "      <td>RELATED INDIVIDUALS OR CORPORATIONS</td>\n",
       "      <td>N</td>\n",
       "      <td>201900019941</td>\n",
       "      <td>48150000</td>\n",
       "      <td>2019-04-19</td>\n",
       "      <td>4</td>\n",
       "    </tr>\n",
       "    <tr>\n",
       "      <td>3</td>\n",
       "      <td>A01 00101 0026</td>\n",
       "      <td>6236.0</td>\n",
       "      <td>19-APR-19</td>\n",
       "      <td>0.0</td>\n",
       "      <td>FERRELL JESSIE L TR</td>\n",
       "      <td>FERRELL JESSIE L TR AND</td>\n",
       "      <td>1261 FURNAS RD</td>\n",
       "      <td>FERRELL JESSIE L TR AND</td>\n",
       "      <td>NANCY E TR</td>\n",
       "      <td>1261 FURNAS RD</td>\n",
       "      <td>...</td>\n",
       "      <td>53870</td>\n",
       "      <td>166510</td>\n",
       "      <td>220380</td>\n",
       "      <td>LAND AND BUILDING</td>\n",
       "      <td>RELATED INDIVIDUALS OR CORPORATIONS</td>\n",
       "      <td>N</td>\n",
       "      <td>201900019585</td>\n",
       "      <td>48150000</td>\n",
       "      <td>2019-04-19</td>\n",
       "      <td>4</td>\n",
       "    </tr>\n",
       "    <tr>\n",
       "      <td>4</td>\n",
       "      <td>A01 00101 0034</td>\n",
       "      <td>8177.0</td>\n",
       "      <td>20-MAY-19</td>\n",
       "      <td>270000.0</td>\n",
       "      <td>MCDOWELL PAUL J AND</td>\n",
       "      <td>HARRISON TRACY A AND</td>\n",
       "      <td>1290 COUNTY LINE RD</td>\n",
       "      <td>HARRISON TRACY A AND</td>\n",
       "      <td>BENJAMIN M WALKER</td>\n",
       "      <td>1290 N MONTGOMERY-MIAMI CTY LINE RD</td>\n",
       "      <td>...</td>\n",
       "      <td>90270</td>\n",
       "      <td>125850</td>\n",
       "      <td>216120</td>\n",
       "      <td>LAND AND BUILDING</td>\n",
       "      <td>VALID SALE</td>\n",
       "      <td>N</td>\n",
       "      <td>201900025682</td>\n",
       "      <td>48150000</td>\n",
       "      <td>2019-05-20</td>\n",
       "      <td>5</td>\n",
       "    </tr>\n",
       "  </tbody>\n",
       "</table>\n",
       "<p>5 rows × 27 columns</p>\n",
       "</div>"
      ],
      "text/plain": [
       "            PARID  CONVNUM    SALEDTE     PRICE               OLDOWN  \\\n",
       "0  A01 00101 0002   6236.0  19-APR-19       0.0  FERRELL JESSIE L TR   \n",
       "1  A01 00101 0002   6235.0  19-APR-19       0.0   FERRELL NANCY E TR   \n",
       "2  A01 00101 0026   6235.0  19-APR-19       0.0   FERRELL NANCY E TR   \n",
       "3  A01 00101 0026   6236.0  19-APR-19       0.0  FERRELL JESSIE L TR   \n",
       "4  A01 00101 0034   8177.0  20-MAY-19  270000.0  MCDOWELL PAUL J AND   \n",
       "\n",
       "                OWNERNAME1       PARCELLOCATION             MAILINGNAME1  \\\n",
       "0  FERRELL JESSIE L TR AND       1179 FURNAS RD  FERRELL JESSIE L TR AND   \n",
       "1      FERRELL JESSIE L TR       1179 FURNAS RD  FERRELL JESSIE L TR AND   \n",
       "2      FERRELL JESSIE L TR       1261 FURNAS RD  FERRELL JESSIE L TR AND   \n",
       "3  FERRELL JESSIE L TR AND       1261 FURNAS RD  FERRELL JESSIE L TR AND   \n",
       "4     HARRISON TRACY A AND  1290 COUNTY LINE RD     HARRISON TRACY A AND   \n",
       "\n",
       "        MAILINGNAME2                               PADDR1  ... ASMTLAND  \\\n",
       "0         NANCY E TR                       1261 FURNAS RD  ...    46470   \n",
       "1         NANCY E TR                       1261 FURNAS RD  ...    46470   \n",
       "2         NANCY E TR                       1261 FURNAS RD  ...    53870   \n",
       "3         NANCY E TR                       1261 FURNAS RD  ...    53870   \n",
       "4  BENJAMIN M WALKER  1290 N MONTGOMERY-MIAMI CTY LINE RD  ...    90270   \n",
       "\n",
       "  ASMTBLDG ASMTTOTL           SALETYPE                         SALEVALIDITY  \\\n",
       "0        0    46470  LAND AND BUILDING  RELATED INDIVIDUALS OR CORPORATIONS   \n",
       "1        0    46470  LAND AND BUILDING  RELATED INDIVIDUALS OR CORPORATIONS   \n",
       "2   166510   220380  LAND AND BUILDING  RELATED INDIVIDUALS OR CORPORATIONS   \n",
       "3   166510   220380  LAND AND BUILDING  RELATED INDIVIDUALS OR CORPORATIONS   \n",
       "4   125850   216120  LAND AND BUILDING                           VALID SALE   \n",
       "\n",
       "   DYTNCRDT  DEEDREFERENCE      NBHD       date  dt_month  \n",
       "0         N   201900019585  48150000 2019-04-19         4  \n",
       "1         N   201900019941  48150000 2019-04-19         4  \n",
       "2         N   201900019941  48150000 2019-04-19         4  \n",
       "3         N   201900019585  48150000 2019-04-19         4  \n",
       "4         N   201900025682  48150000 2019-05-20         5  \n",
       "\n",
       "[5 rows x 27 columns]"
      ]
     },
     "execution_count": 10,
     "metadata": {},
     "output_type": "execute_result"
    }
   ],
   "source": [
    "df.head()"
   ]
  },
  {
   "cell_type": "code",
   "execution_count": 11,
   "metadata": {},
   "outputs": [
    {
     "data": {
      "text/plain": [
       "10200"
      ]
     },
     "execution_count": 11,
     "metadata": {},
     "output_type": "execute_result"
    }
   ],
   "source": [
    "low_price = df.loc[df.PRICE < 10000]\n",
    "len(low_price)"
   ]
  },
  {
   "cell_type": "code",
   "execution_count": 12,
   "metadata": {
    "scrolled": false
   },
   "outputs": [
    {
     "name": "stdout",
     "output_type": "stream",
     "text": [
      "<class 'pandas.core.frame.DataFrame'>\n",
      "Int64Index: 12900 entries, 4 to 23099\n",
      "Data columns (total 27 columns):\n",
      "PARID             12900 non-null object\n",
      "CONVNUM           12899 non-null float64\n",
      "SALEDTE           12900 non-null object\n",
      "PRICE             12900 non-null float64\n",
      "OLDOWN            12899 non-null object\n",
      "OWNERNAME1        12899 non-null object\n",
      "PARCELLOCATION    12899 non-null object\n",
      "MAILINGNAME1      12895 non-null object\n",
      "MAILINGNAME2      4996 non-null object\n",
      "PADDR1            12892 non-null object\n",
      "PADDR2            56 non-null object\n",
      "PADDR3            12888 non-null object\n",
      "CLS               12900 non-null object\n",
      "ACRES             12900 non-null float64\n",
      "TAXLAND           12900 non-null int64\n",
      "TAXBLDG           12900 non-null int64\n",
      "TAXTOTAL          12900 non-null int64\n",
      "ASMTLAND          12900 non-null int64\n",
      "ASMTBLDG          12900 non-null int64\n",
      "ASMTTOTL          12900 non-null int64\n",
      "SALETYPE          12900 non-null object\n",
      "SALEVALIDITY      12900 non-null object\n",
      "DYTNCRDT          12900 non-null object\n",
      "DEEDREFERENCE     12600 non-null object\n",
      "NBHD              12900 non-null object\n",
      "date              12900 non-null datetime64[ns]\n",
      "dt_month          12900 non-null int64\n",
      "dtypes: datetime64[ns](1), float64(3), int64(7), object(16)\n",
      "memory usage: 2.8+ MB\n"
     ]
    }
   ],
   "source": [
    "df = df.drop(low_price.index)\n",
    "df.info()"
   ]
  },
  {
   "cell_type": "code",
   "execution_count": 13,
   "metadata": {},
   "outputs": [],
   "source": [
    "price_group = df[['dt_month', 'PRICE']].groupby(by='dt_month')"
   ]
  },
  {
   "cell_type": "code",
   "execution_count": 14,
   "metadata": {
    "scrolled": false
   },
   "outputs": [
    {
     "data": {
      "image/png": "[encoded data removed]",
      "text/plain": [
       "<Figure size 432x288 with 1 Axes>"
      ]
     },
     "metadata": {
      "needs_background": "light"
     },
     "output_type": "display_data"
    },
    {
     "data": {
      "image/png": "[encoded data removed]",
      "text/plain": [
       "<Figure size 432x288 with 1 Axes>"
      ]
     },
     "metadata": {
      "needs_background": "light"
     },
     "output_type": "display_data"
    }
   ],
   "source": [
    "plot_one = price_group.sum().reset_index().plot(y='PRICE', x='dt_month',kind='bar')\n",
    "plot_two = price_group.count().reset_index().plot(y='PRICE', x='dt_month', kind='line')\n",
    "# plt.show()"
   ]
  },
  {
   "cell_type": "code",
   "execution_count": null,
   "metadata": {},
   "outputs": [],
   "source": []
  }
 ],
 "metadata": {
  "kernelspec": {
   "display_name": "Python 3",
   "language": "python",
   "name": "python3"
  },
  "language_info": {
   "codemirror_mode": {
    "name": "ipython",
    "version": 3
   },
   "file_extension": ".py",
   "mimetype": "text/x-python",
   "name": "python",
   "nbconvert_exporter": "python",
   "pygments_lexer": "ipython3",
   "version": "3.7.4"
  }
 },
 "nbformat": 4,
 "nbformat_minor": 4
}
